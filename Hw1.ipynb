{
 "cells": [
  {
   "cell_type": "code",
   "execution_count": 1,
   "id": "4626dd8d",
   "metadata": {},
   "outputs": [],
   "source": [
    "# Домашнє завдання №1"
   ]
  },
  {
   "cell_type": "code",
   "execution_count": 2,
   "id": "5cbeea6a",
   "metadata": {},
   "outputs": [
    {
     "name": "stdout",
     "output_type": "stream",
     "text": [
      "[ 1  2  3  4  5  6  7  8  9 10]\n"
     ]
    }
   ],
   "source": [
    "## Завдання №1: Створіть одновимірний масив (вектор) з першими 10-ма натуральними числами та виведіть його значення.\n",
    "\n",
    "import numpy as np\n",
    "\n",
    "a = np.arange(1, 11)\n",
    "\n",
    "print(a)"
   ]
  },
  {
   "cell_type": "code",
   "execution_count": 3,
   "id": "b023d8e4",
   "metadata": {},
   "outputs": [
    {
     "name": "stdout",
     "output_type": "stream",
     "text": [
      "[[0 0 0]\n",
      " [0 0 0]\n",
      " [0 0 0]]\n"
     ]
    }
   ],
   "source": [
    "## Завдання №2: Створіть двовимірний масив (матрицю) розміром 3x3, заповніть його нулями та виведіть його значення.\n",
    "\n",
    "zero = np.zeros((3, 3), dtype=int)\n",
    "\n",
    "print(zero)"
   ]
  },
  {
   "cell_type": "code",
   "execution_count": 4,
   "id": "a656152b",
   "metadata": {},
   "outputs": [
    {
     "name": "stdout",
     "output_type": "stream",
     "text": [
      "[[5 5 8 3 2]\n",
      " [4 2 5 5 9]\n",
      " [4 5 8 1 3]\n",
      " [6 2 4 8 2]\n",
      " [4 1 6 8 8]]\n"
     ]
    }
   ],
   "source": [
    "## Завдання №3: Створіть масив розміром 5x5, заповніть його випадковими цілими\n",
    "## числами в діапазоні від 1 до 10 та виведіть його значення.\n",
    "   \n",
    "n = np.random.randint(1, 10, (5,5))\n",
    "\n",
    "print(n)"
   ]
  },
  {
   "cell_type": "code",
   "execution_count": 5,
   "id": "5b9fb063",
   "metadata": {},
   "outputs": [
    {
     "name": "stdout",
     "output_type": "stream",
     "text": [
      "[[0.5054027  0.3621003  0.59568873 0.35253559]\n",
      " [0.0699774  0.46369441 0.79909779 0.46804532]\n",
      " [0.32417059 0.62945585 0.37846001 0.81644225]\n",
      " [0.70533449 0.62070628 0.09021247 0.83302837]]\n"
     ]
    }
   ],
   "source": [
    "## Завдання №4: Створіть масив розміром 4x4, заповніть його випадковими дійсними\n",
    "## числами в діапазоні від 0 до 1 та виведіть його значення.\n",
    "\n",
    "n = np.random.random((4, 4))\n",
    "\n",
    "print(n)"
   ]
  },
  {
   "cell_type": "code",
   "execution_count": 6,
   "id": "36d7a000",
   "metadata": {},
   "outputs": [
    {
     "name": "stdout",
     "output_type": "stream",
     "text": [
      "[5 5 9 8 6]\n",
      "[6 7 7 9 9]\n",
      "[11 12 16 17 15]\n",
      "[-1 -2  2 -1 -3]\n",
      "[30 35 63 72 54]\n"
     ]
    }
   ],
   "source": [
    "## Завдання №5: Створіть два одновимірних масиви розміром 5, заповніть їх випадковими \n",
    "## цілими числами в діапазоні від 1 до 10 та виконайте на них поелементні операції додавання,\n",
    "## віднімання та множення.\n",
    "        \n",
    "a = np.random.randint(1, 10, 5)\n",
    "b = np.random.randint(1, 10, 5)\n",
    "\n",
    "print(a)\n",
    "print(b)\n",
    "print(a + b)\n",
    "print(a - b)\n",
    "print(a * b)"
   ]
  },
  {
   "cell_type": "code",
   "execution_count": 7,
   "id": "94b18a37",
   "metadata": {},
   "outputs": [
    {
     "name": "stdout",
     "output_type": "stream",
     "text": [
      "[ 9  1  8  3 14  4 15]\n",
      "[ 5 17  1 15  3 19 15]\n",
      "458\n"
     ]
    }
   ],
   "source": [
    "## Завдання №6: Створіть два вектори розміром 7, заповніть довільними числами та знайдіть їх скалярний добуток.\n",
    "\n",
    "a = np.random.randint(1, 20, 7)\n",
    "b = np.random.randint(1, 20, 7)\n",
    "\n",
    "print(a)\n",
    "print(b)\n",
    "print(np.dot(a, b))"
   ]
  },
  {
   "cell_type": "code",
   "execution_count": 8,
   "id": "607cac8a",
   "metadata": {
    "scrolled": true
   },
   "outputs": [
    {
     "name": "stdout",
     "output_type": "stream",
     "text": [
      "[[6 8]\n",
      " [8 3]]\n",
      "[[6 6 1]\n",
      " [7 1 9]]\n",
      "[[92 44 78]\n",
      " [69 51 35]]\n"
     ]
    }
   ],
   "source": [
    "## Завдання №7: Створіть дві матриці розміром 2x2 та 2x3,\n",
    "## заповніть їх випадковими цілими числами в діапазоні\n",
    "## від 1 до 10 та перемножте їх між собою.\n",
    "\n",
    "a = np.random.randint(1, 10, (2, 2))\n",
    "b = np.random.randint(1, 10, (2, 3))\n",
    "\n",
    "print(a)\n",
    "print(b)\n",
    "\n",
    "print(np.dot(a, b))"
   ]
  },
  {
   "cell_type": "code",
   "execution_count": 9,
   "id": "da681f1e",
   "metadata": {},
   "outputs": [
    {
     "name": "stdout",
     "output_type": "stream",
     "text": [
      "[[3 7 9]\n",
      " [1 9 6]\n",
      " [2 1 9]]\n",
      "[[ 0.80645161 -0.58064516 -0.41935484]\n",
      " [ 0.03225806  0.09677419 -0.09677419]\n",
      " [-0.1827957   0.11827957  0.21505376]]\n"
     ]
    }
   ],
   "source": [
    "## Завдання №8: Створіть матрицю розміром 3x3, заповніть її випадковими\n",
    "## цілими числами в діапазоні від 1 до 10 та знайдіть її обернену матрицю.\n",
    "\n",
    "a = np.random.randint(1, 10, (3, 3))\n",
    "a_inv = np.linalg.inv(a)\n",
    "\n",
    "print(a)\n",
    "print(a_inv)"
   ]
  },
  {
   "cell_type": "code",
   "execution_count": 10,
   "id": "68f96b72",
   "metadata": {
    "scrolled": true
   },
   "outputs": [
    {
     "name": "stdout",
     "output_type": "stream",
     "text": [
      "[[0.4014683  0.58925246 0.35547193 0.47718521]\n",
      " [0.72063266 0.11803843 0.51222098 0.18546627]\n",
      " [0.26298406 0.29435939 0.70460725 0.53533276]\n",
      " [0.6260442  0.35071174 0.27458453 0.20861563]]\n",
      "[[0.4014683  0.72063266 0.26298406 0.6260442 ]\n",
      " [0.58925246 0.11803843 0.29435939 0.35071174]\n",
      " [0.35547193 0.51222098 0.70460725 0.27458453]\n",
      " [0.47718521 0.18546627 0.53533276 0.20861563]]\n"
     ]
    }
   ],
   "source": [
    "## Завдання №9: Створіть матрицю розміром 4x4, заповніть її випадковими \n",
    "## дійсними числами в діапазоні від 0 до 1 та транспонуйте її.\n",
    "\n",
    "n = np.random.random((4, 4))\n",
    "\n",
    "print(n)\n",
    "print(n.T)"
   ]
  },
  {
   "cell_type": "code",
   "execution_count": 11,
   "id": "c3c26f46",
   "metadata": {
    "scrolled": true
   },
   "outputs": [
    {
     "name": "stdout",
     "output_type": "stream",
     "text": [
      "[[1 1 2 8]\n",
      " [7 8 8 5]\n",
      " [2 7 2 1]]\n",
      "[3 5 1 9]\n",
      "[ 82 114  52]\n"
     ]
    }
   ],
   "source": [
    "## Завдання №10: Створіть матрицю розміром 3x4 та вектор розміром 4, \n",
    "## заповніть їх випадковими цілими числами в діапазоні від 1 до 10 та перемножте матрицю на вектор.\n",
    "\n",
    "a = np.random.randint(1, 10, (3,4))\n",
    "b = np.random.randint(1, 10, 4)\n",
    "\n",
    "print(a)\n",
    "print(b)\n",
    "\n",
    "print(np.dot(a, b))"
   ]
  },
  {
   "cell_type": "code",
   "execution_count": 12,
   "id": "11f24b60",
   "metadata": {},
   "outputs": [
    {
     "name": "stdout",
     "output_type": "stream",
     "text": [
      "[[0.64405368 0.35285072 0.91528778]\n",
      " [0.25164204 0.92144326 0.94909066]]\n",
      "[0.51013704 0.48330412 0.64255487]\n",
      "[1.08721246 1.18355208]\n"
     ]
    }
   ],
   "source": [
    "## Завдання №11: Створіть матрицю розміром 2x3 та вектор розміром 3, \n",
    "## заповніть їх випадковими дійсними числами в діапазоні від 0 до 1 та \n",
    "## перемножте матрицю на вектор.\n",
    "\n",
    "a = np.random.random((2, 3))\n",
    "b = np.random.random(3)\n",
    "\n",
    "print(a)\n",
    "print(b)\n",
    "\n",
    "print(np.dot(a, b))"
   ]
  },
  {
   "cell_type": "code",
   "execution_count": 13,
   "id": "57d94eb3",
   "metadata": {},
   "outputs": [
    {
     "name": "stdout",
     "output_type": "stream",
     "text": [
      "[[1 4]\n",
      " [4 8]]\n",
      "[[5 9]\n",
      " [3 9]]\n",
      "[[ 5 36]\n",
      " [12 72]]\n"
     ]
    }
   ],
   "source": [
    "## Завдання №12: Створіть дві матриці розміром 2x2, заповніть їх випадковими \n",
    "## цілими числами в діапазоні від 1 до 10 та виконайте їхнє поелементне множення.\n",
    "\n",
    "a = np.random.randint(1, 10, (2, 2))\n",
    "b = np.random.randint(1, 10, (2, 2))\n",
    "\n",
    "print(a)\n",
    "print(b)\n",
    "\n",
    "print(a * b)"
   ]
  },
  {
   "cell_type": "code",
   "execution_count": 14,
   "id": "8991571e",
   "metadata": {},
   "outputs": [
    {
     "name": "stdout",
     "output_type": "stream",
     "text": [
      "[[4 7]\n",
      " [7 9]]\n",
      "[[9 2]\n",
      " [9 4]]\n",
      "[[ 99  36]\n",
      " [144  50]]\n"
     ]
    }
   ],
   "source": [
    "## Завдання №13: Створіть дві матриці розміром 2x2, заповніть їх випадковими \n",
    "## цілими числами в діапазоні від 1 до 10 та знайдіть їх добуток.\n",
    "\n",
    "a = np.random.randint(1, 10, (2, 2))\n",
    "b = np.random.randint(1, 10, (2, 2))\n",
    "\n",
    "print(a)\n",
    "print(b)\n",
    "\n",
    "print(np.dot(a, b))"
   ]
  },
  {
   "cell_type": "code",
   "execution_count": 15,
   "id": "d0d9fd9c",
   "metadata": {},
   "outputs": [
    {
     "name": "stdout",
     "output_type": "stream",
     "text": [
      "[[ 8 38 14 41 92]\n",
      " [77 93 83 94 58]\n",
      " [59 36 12 47 21]\n",
      " [86 80 57 18 10]\n",
      " [95 44 50 78 89]]\n",
      "1380\n"
     ]
    }
   ],
   "source": [
    "## Завдання №14: Створіть матрицю розміром 5x5, заповніть її випадковими \n",
    "## цілими числами в діапазоні від 1 до 100 та знайдіть суму елементів матриці.\n",
    "\n",
    "a = np.random.randint(1,100, (5, 5))\n",
    "\n",
    "print(a)\n",
    "print(a.sum())"
   ]
  },
  {
   "cell_type": "code",
   "execution_count": 16,
   "id": "e0e0d917",
   "metadata": {},
   "outputs": [
    {
     "name": "stdout",
     "output_type": "stream",
     "text": [
      "[[2 7 4 2]\n",
      " [5 6 7 5]\n",
      " [9 2 7 7]\n",
      " [9 7 7 7]]\n",
      "[[1 4 3 2]\n",
      " [4 2 6 1]\n",
      " [6 8 8 5]\n",
      " [7 4 9 7]]\n",
      "[[ 1  3  1  0]\n",
      " [ 1  4  1  4]\n",
      " [ 3 -6 -1  2]\n",
      " [ 2  3 -2  0]]\n"
     ]
    }
   ],
   "source": [
    "## Завдання №15: Створіть дві матриці розміром 4x4, заповніть їх випадковими\n",
    "## цілими числами в діапазоні від 1 до 10 та знайдіть їхню різницю.\n",
    "\n",
    "a = np.random.randint(1,10, (4, 4))\n",
    "b = np.random.randint(1,10, (4, 4))\n",
    "\n",
    "print(a)\n",
    "print(b)\n",
    "\n",
    "print(a - b)"
   ]
  },
  {
   "cell_type": "code",
   "execution_count": 17,
   "id": "6215178b",
   "metadata": {},
   "outputs": [
    {
     "name": "stdout",
     "output_type": "stream",
     "text": [
      "[[0.22143276 0.01750346 0.59093671]\n",
      " [0.21825642 0.26208422 0.70916374]\n",
      " [0.89349738 0.33464925 0.36218172]]\n",
      "[[0.82987293]\n",
      " [1.18950438]\n",
      " [1.59032834]]\n"
     ]
    }
   ],
   "source": [
    "## Завдання №16: Створіть матрицю розміром 3x3, заповніть її випадковими \n",
    "## дійсними числами в діапазоні від 0 до 1 та знайдіть вектор-стовпчик, \n",
    "## що містить суму елементів кожного рядка матриці.\n",
    "\n",
    "a = np.random.random((3, 3))\n",
    "row_sums = np.sum(a, axis=1, keepdims=True)\n",
    "\n",
    "print(a)\n",
    "print(row_sums)"
   ]
  },
  {
   "cell_type": "code",
   "execution_count": 18,
   "id": "05cbb9bf",
   "metadata": {},
   "outputs": [
    {
     "name": "stdout",
     "output_type": "stream",
     "text": [
      "[[26 28 23 29]\n",
      " [29 21 24 18]\n",
      " [15 14 26 14]]\n",
      "[[676 784 529 841]\n",
      " [841 441 576 324]\n",
      " [225 196 676 196]]\n",
      "[[676 784 529 841]\n",
      " [841 441 576 324]\n",
      " [225 196 676 196]]\n"
     ]
    }
   ],
   "source": [
    "## Завдання №17: Створіть матрицю розміром 3x4 з довільними цілими числами\n",
    "## і створінь матрицю з квадратами цих чисел.\n",
    "\n",
    "a = np.random.randint(1, 30, (3, 4))\n",
    "\n",
    "print(a)\n",
    "print(a ** 2)\n",
    "print(a * a)"
   ]
  },
  {
   "cell_type": "code",
   "execution_count": 19,
   "id": "2ad6e34e",
   "metadata": {},
   "outputs": [
    {
     "name": "stdout",
     "output_type": "stream",
     "text": [
      "[22 41  5 12]\n",
      "[4.69041576 6.40312424 2.23606798 3.46410162]\n",
      "[4.69041576 6.40312424 2.23606798 3.46410162]\n"
     ]
    }
   ],
   "source": [
    "## Завдання №18: Створіть вектор розміром 4, заповніть його випадковими\n",
    "## цілими числами в діапазоні від 1 до 50 та знайдіть вектор з квадратними коренями цих чисел.\n",
    "\n",
    "a = np.random.randint(1, 50, 4)\n",
    "\n",
    "print(a)\n",
    "print(a ** 0.5)\n",
    "print(np.sqrt(a))"
   ]
  },
  {
   "cell_type": "code",
   "execution_count": null,
   "id": "afe2db29",
   "metadata": {},
   "outputs": [],
   "source": []
  }
 ],
 "metadata": {
  "kernelspec": {
   "display_name": "Python 3 (ipykernel)",
   "language": "python",
   "name": "python3"
  },
  "language_info": {
   "codemirror_mode": {
    "name": "ipython",
    "version": 3
   },
   "file_extension": ".py",
   "mimetype": "text/x-python",
   "name": "python",
   "nbconvert_exporter": "python",
   "pygments_lexer": "ipython3",
   "version": "3.11.5"
  }
 },
 "nbformat": 4,
 "nbformat_minor": 5
}
